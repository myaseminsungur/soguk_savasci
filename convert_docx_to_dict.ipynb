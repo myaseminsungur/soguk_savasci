{
 "cells": [
  {
   "cell_type": "code",
   "execution_count": 6,
   "metadata": {},
   "outputs": [
    {
     "name": "stdout",
     "output_type": "stream",
     "text": [
      "{'Dilek tutmana yardımcı olacak meyve nedir?': 'WishNe', 'Asla gelmediği için izleyemediğimiz Coen Biraderler filmi nedir?': 'Yurtiçi Kargo', 'Her soruya hırsla parmak kaldıran şehir hangisidir?': 'Bilecik', 'Pavlov’un koşullu şartlanma teorisini destekleyen Anadolu türkümüz hangisidir?': 'Yar değince kalem elden düşüyor.', 'Çarşaf sermeden uyuyan ünlümüz kimdir?': 'Sermiyen Midyat', 'Reflüsü olan Disney prensesi kimdir?': 'Sindirella', 'Cumartesi yayınlanan Güldür Güldür’ü Pazar zanneden seyirciye ne denir?': 'Dündür Dündür', 'Bir politikacının yatak odasında duymak istemeyeceği söz hangisidir?': 'Yeterli çoğunluk sağlanamadığı için…', 'Kadir İnanır diş macunu reklamında oynasaydı reklam ismi ne olurdu?': 'Tartar Ramazan', 'Kapalı mekanlardan geçen herkesin bir rolü oynadığı donu hep başkalarının kahkahası ile biten çok kısa gösterimlere ne denir?': 'Cinsel Hayatım', 'Aşık olan kedi nasıl ses çıkarır?': 'Miyav', 'Sevdiği kadına bir uzvunu kesip gönderene ne denir?': 'Vincent Van Högh', 'PUBG’de silah bulamayan İbrahim Tatlıses ne demiş?': 'Taramam Sormam Bir Daha', 'İçinde su bulunan dağa ne denir?': 'Su bardağı', 'Arkadaşı ile restoranda yemek yiyen Kaan Tangöze ne demiş?': 'Haberin yok Ölüyorum', 'Yakınında insan olmasını sevmeyen oyuncu kimdir?': 'PekerAçıkalın', 'Dünyaca ünlü tenisçi Nadal, otelden neden aç kalmış?': 'Servisi karşılayamamış', 'En maskülen renk hangisidir?': 'Siklamen', 'Rize’de yapılan edebi sohbetlere ne denir?': 'Çay Elinden Goethe’ye', 'Uzaydaki çok büyük kızgın gaz ve toz kütlelerini tarif eden astronomik terim nedir?': 'Eski Sevgilim', 'Kavgada öne sürülen şarkıcımız kimdir?': 'Mustada Sendal', 'Ankaralılan hangi Mortal Kombat karakterini uzaktan tanır?': 'Kung Lao', 'Her şeyi kader kısmete bağlayan dizi karakteri kimdir?': 'Nassip Girl', 'İskandinav mitolojisinde Ragnarok’tan sonra yıkılan Asgard’ı kim inşa etti?': 'TOKİ', 'Ömer Seyfettin’in Instagram kullanmaya bağladığını nasıl anlarız?': 'Bir hikayesinde senden bahsetti.', 'Ali Sunal’ın eşinin en sevdiği çiçek nedir?': 'Güldür Güldür', 'Yaklaşık 25 yıl önce piyasaya çıkan ve kadın oyuncular tarafından çokça oynanan Türk yapımı oyun hangisidir?': 'Hayallerim', 'Bir Karadenizliye masadaki sandalyeyi alabilir miyim diye sorduğunda ne der?': 'Chaby alabilirsin', 'LOL’de team fight’a girip herkese KS atan junger, carry arkadaşından özür dilemiş, peki carry ne cevap vermiş?': 'Senin xin zhao olsun', 'Bir halı saha maçında antrenör Beyazıt Öztürk’e ‘bu gölü kim atacak?’ diye sorduğunda ne cevap vermiştir?': 'Hocam Ali Atay', 'Egeli bir Kuzey Aftrika ‘da suç işlerse ona nasıl bir yaptırım uygulanır?': 'Cezayir', 'Hogwarts’ta okul karını 200% arttıran patrona; bu işin sihri nedir denildiğinde ne cevap vermiştir?': 'Expecto Patronum', 'Kurtlar Vadisi’nde neden hiç yük taşıma sahnesi yoktur?': 'Çünkü iki kişinin bindiği tır, tır değildir.', 'KPSS’den sonra insanlarını canını en çok yakan büyük sınavın adı nedir?': 'BDSM', 'Herkesin bildiği jigolo anlamında kullanılan deyim nedir?': 'Dillere pezevenk olmak', 'Halil’in iş yerinde olay çıkarmasın ne denir?': 'Patrona Halil İsyanı', 'İnsanların kan şekeri üzerine bahis oynatan sitenin adı nedir?': 'Diyabet', 'Ünlü divan şairi Nesimi onu eleştirenlere nasıl cevap vermiştir?': 'Nesimi rollin’', 'İnsanı insana insanca anlatma sanatının adı nedir?': 'BDSM', 'Cezaevi gurmelerine ne ad verilir?': 'Tadar Ramazan', 'Coşkun Sabah’ın en sevdiği rock grubu hangisidir?': 'Bu udsuzluk özlemi', 'Aşıklar buluşacakmış fakat son anda olmamış. Neden?': 'Pir Sultan İptal', 'Asosyal birisi sevgilisiyle nasıl tanışır?': 'şişirdikten sonra', 'Böbreklerdeki aşırı sıkışmanın sebebi nedir?': 'İdrar', 'Aşık Veysel’in bir akrabasının özellikleri üzerine yazdığı türkünün adı nedir?': 'Uzun İnce Birol dayım', 'Çok sık üst solunum yolu enfeksiyonu geçiren oyuncumuz kimdir?': 'Nazal Kaya', 'Bir açıklık ve içinde iki delikten oluşan, dar ya da geniş, bazen ıslanan şeye ne denir?': 'Pantolon', 'Bir ailenin diğer insanlarla dertlerini konuşarak ve anlaşarak çözdüğü Türk komedi filmi hangisidir?': 'Ilımlı Dünya', 'Bir grup erkeğin bir araya gelip, vokal yoluyla insanları rahatsız etmesine ne denir?': 'Tenör Örgütü', 'Geleceğe Dönüş filminin arabası DeLorean, hangi sıklıkla kullanılmıştır?': 'Zaman zaman', 'İlk Türk fantezi rock grubu nedir?': 'Tanga', 'Yazın mecburen İstanbul’da denize girmek zorunda kalan Bülent Ersoy, hangi şarkıyı söyler?': 'Şile bülbülüm', 'Arandığında gülen fotoğrafçımızın adı nedir?': 'Ara Güler', 'Bir Osmanlı Şehzadesinin ve hocasıın hayatını anlatan müzikalin adı nedir?': 'La la land', 'Peter’ın Heidi’ye yazdığı bir şarkı var sonradan ortaya çıkan. Nedir o?': 'Heidi söyle, seni nasıl sevdiğimi', 'Başrolünde yalan yanlış fetvalar veren bir seri katıl olan film hangisidir?': 'Diyanet Süsü', 'Araçların sürüş hızını değiştiren süper güce ne ad verilir?': 'Şanzıman', 'Daha çok ailelerin tercih ettiği müzisyen kimdir?': 'Sedan Sayan', 'Ben neden böyle oturuyorum?': 'Dikkatini bir yere çekmek istiyorum.', 'İnsanların ibadetleri için eşleştiği mobil uygulama hangisidir?': 'Dinder'}\n"
     ]
    }
   ],
   "source": [
    "from docx import Document\n",
    "\n",
    "def convert_doc_to_dict():\n",
    "    # Open the Word document\n",
    "    document = Document(\"soguk_savas_soruları.docx\")\n",
    "    qa_dict = {}\n",
    "    \n",
    "    # Read through the document paragraph by paragraph\n",
    "    for i in range(len(document.paragraphs) - 1):\n",
    "        # Extract the question\n",
    "        if document.paragraphs[i].text.startswith(\"Q:\"):\n",
    "            question = document.paragraphs[i].text[2:].strip()\n",
    "            \n",
    "            # Extract the answer\n",
    "            if document.paragraphs[i + 1].text.startswith(\"A:\"):\n",
    "                answer = document.paragraphs[i + 1].text[2:].strip()\n",
    "                # Add to the dictionary\n",
    "                qa_dict[question] = answer\n",
    "                \n",
    "    return qa_dict\n",
    "\n",
    "# Example usage\n",
    "qa_dict = convert_doc_to_dict()\n",
    "\n",
    "# Print the dictionary\n",
    "print(qa_dict)"
   ]
  },
  {
   "cell_type": "code",
   "execution_count": null,
   "metadata": {},
   "outputs": [],
   "source": []
  }
 ],
 "metadata": {
  "kernelspec": {
   "display_name": "btk2",
   "language": "python",
   "name": "python3"
  },
  "language_info": {
   "codemirror_mode": {
    "name": "ipython",
    "version": 3
   },
   "file_extension": ".py",
   "mimetype": "text/x-python",
   "name": "python",
   "nbconvert_exporter": "python",
   "pygments_lexer": "ipython3",
   "version": "3.9.18"
  }
 },
 "nbformat": 4,
 "nbformat_minor": 2
}
