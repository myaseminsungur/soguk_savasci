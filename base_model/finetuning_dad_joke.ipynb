{
 "cells": [
  {
   "cell_type": "code",
   "execution_count": 1,
   "metadata": {},
   "outputs": [],
   "source": [
    "from openai import OpenAI\n",
    "\n",
    "# filepath: /path/to/your/file.py\n",
    "from dotenv import load_dotenv\n",
    "import os\n",
    "\n",
    "# Load environment variables from .env file\n",
    "load_dotenv()\n",
    "\n",
    "# Get the OpenAI API key\n",
    "openai_api_key = os.getenv('OPENAI_API_KEY')\n",
    "client = OpenAI(api_key=openai_api_key)"
   ]
  },
  {
   "cell_type": "code",
   "execution_count": 3,
   "metadata": {},
   "outputs": [
    {
     "data": {
      "text/plain": [
       "FileObject(id='file-AkPWUJUXbsLLsdkETJrgW4', bytes=12094, created_at=1739193877, filename='dad_joke_samples_test.jsonl', object='file', purpose='fine-tune', status='processed', status_details=None)"
      ]
     },
     "execution_count": 3,
     "metadata": {},
     "output_type": "execute_result"
    }
   ],
   "source": [
    "client.files.create(\n",
    "  file=open(\"../data/dad_joke_samples_train.jsonl\", \"rb\"),\n",
    "  purpose=\"fine-tune\"\n",
    ")\n",
    "\n",
    "client.files.create(\n",
    "  file=open(\"../data/dad_joke_samples_test.jsonl\", \"rb\"),\n",
    "  purpose=\"fine-tune\"\n",
    ")"
   ]
  },
  {
   "cell_type": "code",
   "execution_count": 4,
   "metadata": {},
   "outputs": [
    {
     "name": "stdout",
     "output_type": "stream",
     "text": [
      "DAD_JOKE_SAMPLES_TEST.JSONL : file-AkPWUJUXbsLLsdkETJrgW4\n",
      "DAD_JOKE_SAMPLES_TRAIN.JSONL : file-78aGFZduAzCr7gNpULVkpD\n",
      "DAD_JOKE_REASONING_SAMPLES_TRAIN.JSONL : file-XZkorTai3cwNRvj4t3Eaap\n",
      "DAD_JOKE_REASONING_SAMPLES_TEST.JSONL : file-1fwP5mJBAVSJm1enXNHvWC\n",
      "DAD_JOKE_SAMPLES_TEST.JSONL : file-14gtA38iuJ7sJgqBmwsyNC\n",
      "DAD_JOKE_SAMPLES_TRAIN.JSONL : file-Jp47nPA2Eq2S9p7VXCEsWz\n"
     ]
    }
   ],
   "source": [
    "files = client.files.list(purpose=\"fine-tune\")\n",
    "\n",
    "for file in files:\n",
    "    print(file.filename.upper(),':',file.id)"
   ]
  },
  {
   "cell_type": "code",
   "execution_count": 5,
   "metadata": {},
   "outputs": [
    {
     "data": {
      "text/plain": [
       "FineTuningJob(id='ftjob-1d4naLG5aPxm5KKXl4ZPVsp8', created_at=1739193895, error=Error(code=None, message=None, param=None), fine_tuned_model=None, finished_at=None, hyperparameters=Hyperparameters(batch_size='auto', learning_rate_multiplier='auto', n_epochs='auto'), model='gpt-4o-mini-2024-07-18', object='fine_tuning.job', organization_id='org-RuBNDg5GaMqiVIMAjwK7becX', result_files=[], seed=1210483144, status='validating_files', trained_tokens=None, training_file='file-Jp47nPA2Eq2S9p7VXCEsWz', validation_file='file-14gtA38iuJ7sJgqBmwsyNC', estimated_finish=None, integrations=[], method=Method(dpo=None, supervised=MethodSupervised(hyperparameters=MethodSupervisedHyperparameters(batch_size='auto', learning_rate_multiplier='auto', n_epochs='auto')), type='supervised'), user_provided_suffix=None)"
      ]
     },
     "execution_count": 5,
     "metadata": {},
     "output_type": "execute_result"
    }
   ],
   "source": [
    "client.fine_tuning.jobs.create(\n",
    "  training_file=\"file-Jp47nPA2Eq2S9p7VXCEsWz\",\n",
    "  validation_file =\"file-14gtA38iuJ7sJgqBmwsyNC\",\n",
    "  model=\"gpt-4o-mini-2024-07-18\"\n",
    ")"
   ]
  },
  {
   "cell_type": "code",
   "execution_count": 8,
   "metadata": {},
   "outputs": [
    {
     "name": "stdout",
     "output_type": "stream",
     "text": [
      "Step 131/144: training loss=0.54\n",
      "Step 144/144: training loss=1.59, validation loss=1.58, full validation loss=1.90\n",
      "Step 144/144: training loss=1.59, validation loss=1.58, full validation loss=1.90\n",
      "Step 144/144: training loss=1.59, validation loss=1.58, full validation loss=1.90\n",
      "Step 144/144: training loss=1.59, validation loss=1.58, full validation loss=1.90\n",
      "The job has successfully completed\n"
     ]
    }
   ],
   "source": [
    "import time\n",
    "\n",
    "\n",
    "while True:\n",
    "    events = client.fine_tuning.jobs.list_events(fine_tuning_job_id=\"ftjob-1d4naLG5aPxm5KKXl4ZPVsp8\", limit=10)\n",
    "    message = events.data[0].message\n",
    "    print(message)\n",
    "    if message == \"The job has successfully completed\":\n",
    "        break\n",
    "    \n",
    "\n",
    "    time.sleep(20)"
   ]
  },
  {
   "cell_type": "code",
   "execution_count": null,
   "metadata": {},
   "outputs": [
    {
     "name": "stdout",
     "output_type": "stream",
     "text": [
      "ft:gpt-4o-mini-2024-07-18:personal::AzOC0pEr\n"
     ]
    }
   ],
   "source": [
    "# Retrieve the state of a fine-tune\n",
    "dad_joke_model = client.fine_tuning.jobs.retrieve(\"ftjob-1d4naLG5aPxm5KKXl4ZPVsp\").fine_tuned_model\n",
    "print(dad_joke_model)"
   ]
  }
 ],
 "metadata": {
  "kernelspec": {
   "display_name": "btk2",
   "language": "python",
   "name": "python3"
  },
  "language_info": {
   "codemirror_mode": {
    "name": "ipython",
    "version": 3
   },
   "file_extension": ".py",
   "mimetype": "text/x-python",
   "name": "python",
   "nbconvert_exporter": "python",
   "pygments_lexer": "ipython3",
   "version": "3.9.18"
  }
 },
 "nbformat": 4,
 "nbformat_minor": 2
}
