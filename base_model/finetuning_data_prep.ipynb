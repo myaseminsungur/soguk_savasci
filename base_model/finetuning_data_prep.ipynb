{
 "cells": [
  {
   "cell_type": "code",
   "execution_count": 1,
   "metadata": {},
   "outputs": [
    {
     "data": {
      "text/plain": [
       "True"
      ]
     },
     "execution_count": 1,
     "metadata": {},
     "output_type": "execute_result"
    }
   ],
   "source": [
    "from openai import OpenAI\n",
    "import os\n",
    "import json\n",
    "import re\n",
    "\n",
    "# filepath: /path/to/your/file.py\n",
    "from dotenv import load_dotenv\n",
    "# Load environment variables from .env file\n",
    "load_dotenv()"
   ]
  },
  {
   "cell_type": "code",
   "execution_count": 2,
   "metadata": {},
   "outputs": [],
   "source": [
    "# Get the OpenAI API key\n",
    "openai_api_key = os.getenv('OPENAI_API_KEY')\n",
    "client = OpenAI(api_key=openai_api_key)"
   ]
  },
  {
   "cell_type": "code",
   "execution_count": 3,
   "metadata": {},
   "outputs": [
    {
     "name": "stdout",
     "output_type": "stream",
     "text": [
      "['Dilek tutmana yardımcı olacak meyve nedir?: WishNe', 'Asla gelmediği için izleyemediğimiz Coen Biraderler filmi nedir?: Yurtiçi Kargo']\n"
     ]
    }
   ],
   "source": [
    "with open('../data/qa_list.json', 'rb') as f:\n",
    "    qa_list = json.load(f)\n",
    "print(qa_list[:2])"
   ]
  },
  {
   "cell_type": "code",
   "execution_count": 4,
   "metadata": {},
   "outputs": [],
   "source": [
    "system_prompt = \"\"\"\n",
    "Convert following q-a pairs about dad jokes to a chatbot conversation:\n",
    "1. System prompt is \"You are a dad joke expert. Create dad jokes in accordance with the user input.\"\n",
    "2. Create a user input for the q-a pairs. \n",
    "3. Put q-a pairs in proper format. \n",
    "\n",
    "Here is a few examples:\n",
    "q-a pair:\n",
    "'Dilek tutmana yardımcı olacak meyve nedir?': 'WishNe'\n",
    "structured-chatbot-conversation:\n",
    "{\n",
    "    \"messages\": [\n",
    "        {\"role\": \"system\", \"content\": \"You are a dad joke expert. Create dad jokes in accordance with the user input.\"},\n",
    "        {\"role\": \"user\", \"content\": \"Bana bir espri yapar mısın?\"},\n",
    "        {\"role\": \"assistant\", \"content\": \"Dilek tutmana yardımcı olacak meyve nedir?\"},\n",
    "        {\"role\": \"user\", \"content\": \"Nedir?\"},\n",
    "        {\"role\": \"assistant\", \"content\": \"WishNe.\"}\n",
    "    ]\n",
    "}\n",
    "q-a pair:\n",
    "'Asla gelmediği için izleyemediğimiz Coen Biraderler filmi nedir?': 'Yurtiçi Kargo'\n",
    "structured-chatbot-conversation:\n",
    "{\n",
    "    \"messages\": [\n",
    "        {\"role\": \"system\", \"content\": \"You are a dad joke expert. Create dad jokes in accordance with the user input.\"},\n",
    "        {\"role\": \"user\", \"content\": \"Bana yurtiçi kargonun yavaşlığı  ile ilgili bir espri yapar mısın?\"},\n",
    "        {\"role\": \"assistant\", \"content\": \"Asla gelmediği için izleyemediğimiz Coen Biraderler filmi nedir?\"},\n",
    "        {\"role\": \"user\", \"content\": \"Nedir?\"},\n",
    "        {\"role\": \"assistant\", \"content\": \"Yurtiçi Kargo.\"}\n",
    "    ]\n",
    "}\n",
    "q-a pair:\n",
    "'Adı Chaby olan biri ile ilgili bir Karadeniz esprisi yapar mısın?': 'Chaby alabilirsin'\n",
    "structured-chatbot-conversation:\n",
    "{\n",
    "    \"messages\": [\n",
    "        {\"role\": \"system\", \"content\": \"You are a dad joke expert. Create dad jokes in accordance with the user input.\"},\n",
    "        {\"role\": \"user\", \"content\": \"Adı Chaby olan biri ile ilgili bir Karadeniz esprisi yapar mısın?\"},\n",
    "        {\"role\": \"assistant\", \"content\": \"Bir Karadenizliye masadaki sandalyeyi alabilir miyim diye sorduğunda ne der?\"},\n",
    "        {\"role\": \"user\", \"content\": \"Ne der?\"},\n",
    "        {\"role\": \"assistant\", \"content\": \"Chaby alabilirsin\"}\n",
    "    ]\n",
    "}\n",
    "q-a pair:\n",
    "'Bir halı saha maçında antrenör Beyazıt Öztürk’e ‘bu gölü kim atacak?’ diye sorduğunda ne cevap vermiştir?': 'Hocam Ali Atay'\n",
    "structured-chatbot-conversation:\n",
    "{\n",
    "    \"messages\": [\n",
    "        {\"role\": \"system\", \"content\": \"You are a dad joke expert. Create dad jokes in accordance with the user input.\"},\n",
    "        {\"role\": \"user\", \"content\": \" r harflerini söyleyemeyen Beyazıt Öztürk ile ilgili bir espri yapar mısın?\"},\n",
    "        {\"role\": \"assistant\", \"content\": \"Bir halı saha maçında antrenör Beyazıt Öztürk’e ‘bu gölü kim atacak?’ diye sorduğunda ne cevap vermiştir?\"},\n",
    "        {\"role\": \"user\", \"content\": \"Ne cevap vermiştir?\"},\n",
    "        {\"role\": \"assistant\", \"content\": \"Hocam Ali Atay\"}\n",
    "    ]\n",
    "}\n",
    "\"\"\""
   ]
  },
  {
   "cell_type": "code",
   "execution_count": 5,
   "metadata": {},
   "outputs": [],
   "source": [
    "def dad_joke_sample_formatter(qa_pair,system_prompt):\n",
    "    user_content = f\"\"\"\n",
    "    q-a pair: \n",
    "    {qa_pair}\n",
    "    structured-chatbot-conversation:\n",
    "    \"\"\"\n",
    "    completion = client.chat.completions.create(\n",
    "        model=\"gpt-4o-mini\",\n",
    "        temperature=0.0,\n",
    "        messages=[\n",
    "            {\"role\": \"system\", \"content\": system_prompt},\n",
    "            {\n",
    "                \"role\": \"user\",\n",
    "                \"content\": user_content\n",
    "            }\n",
    "        ]\n",
    "    )\n",
    "    return completion.choices[0].message.content"
   ]
  },
  {
   "cell_type": "code",
   "execution_count": 6,
   "metadata": {},
   "outputs": [
    {
     "name": "stdout",
     "output_type": "stream",
     "text": [
      "{\n",
      "    \"messages\": [\n",
      "        {\"role\": \"system\", \"content\": \"You are a dad joke expert. Create dad jokes in accordance with the user input.\"},\n",
      "        {\"role\": \"user\", \"content\": \"Bana bir espri yapar mısın?\"},\n",
      "        {\"role\": \"assistant\", \"content\": \"Dilek tutmana yardımcı olacak meyve nedir?\"},\n",
      "        {\"role\": \"user\", \"content\": \"Nedir?\"},\n",
      "        {\"role\": \"assistant\", \"content\": \"WishNe.\"}\n",
      "    ]\n",
      "}\n"
     ]
    }
   ],
   "source": [
    "print(dad_joke_sample_formatter(qa_list[0],system_prompt))"
   ]
  },
  {
   "cell_type": "code",
   "execution_count": 7,
   "metadata": {},
   "outputs": [
    {
     "name": "stdout",
     "output_type": "stream",
     "text": [
      "Converting q-a pairs to chatbot conversation format...\n"
     ]
    },
    {
     "name": "stderr",
     "output_type": "stream",
     "text": [
      "100%|██████████| 158/158 [07:03<00:00,  2.68s/it]\n"
     ]
    }
   ],
   "source": [
    "from tqdm import tqdm\n",
    "\n",
    "dad_joke_samples = []\n",
    "# Show progress\n",
    "print(\"Converting q-a pairs to chatbot conversation format...\")\n",
    "\n",
    "for qa_pair in tqdm(qa_list):\n",
    "    dad_joke_samples.append(dad_joke_sample_formatter(qa_pair, system_prompt))"
   ]
  },
  {
   "cell_type": "code",
   "execution_count": 8,
   "metadata": {},
   "outputs": [],
   "source": [
    "#train-test split\n",
    "train_samples = dad_joke_samples[:int(len(dad_joke_samples)*0.8)]\n",
    "test_samples = dad_joke_samples[int(len(dad_joke_samples)*0.8):]"
   ]
  },
  {
   "cell_type": "code",
   "execution_count": 10,
   "metadata": {},
   "outputs": [
    {
     "name": "stdout",
     "output_type": "stream",
     "text": [
      "{\n",
      "    \"messages\": [\n",
      "        {\"role\": \"system\", \"content\": \"You are a dad joke expert. Create dad jokes in accordance with the user input.\"},\n",
      "        {\"role\": \"user\", \"content\": \"Araçlarla ilgili bir espri yapar mısın?\"},\n",
      "        {\"role\": \"assistant\", \"content\": \"Araçların sürüş hızını değiştiren süper güce ne ad verilir?\"},\n",
      "        {\"role\": \"user\", \"content\": \"Ne ad verilir?\"},\n",
      "        {\"role\": \"assistant\", \"content\": \"Şanzıman.\"}\n",
      "    ]\n",
      "}\n"
     ]
    }
   ],
   "source": [
    "#train_samples[0] = train_samples[0][8:-4]\n",
    "print(train_samples[52])"
   ]
  },
  {
   "cell_type": "code",
   "execution_count": 11,
   "metadata": {},
   "outputs": [],
   "source": [
    "def write_cleaned_jsonl(dad_joke_samples, output_file):\n",
    "    with open(output_file, \"w\") as f:\n",
    "        for joke in dad_joke_samples:\n",
    "            data = json.loads(joke)\n",
    "            cleaned_text = json.dumps(data, separators=(',', ':'), ensure_ascii=False)\n",
    "            f.write(cleaned_text + \"\\n\")"
   ]
  },
  {
   "cell_type": "code",
   "execution_count": 12,
   "metadata": {},
   "outputs": [
    {
     "name": "stdout",
     "output_type": "stream",
     "text": [
      "Total jokes: 158\n",
      "First 5 jokes: ['{\\n    \"messages\": [\\n        {\"role\": \"system\", \"content\": \"You are a dad joke expert. Create dad jokes in accordance with the user input.\"},\\n        {\"role\": \"user\", \"content\": \"Bana bir espri yapar mısın?\"},\\n        {\"role\": \"assistant\", \"content\": \"Dilek tutmana yardımcı olacak meyve nedir?\"},\\n        {\"role\": \"user\", \"content\": \"Nedir?\"},\\n        {\"role\": \"assistant\", \"content\": \"WishNe.\"}\\n    ]\\n}', '{\\n    \"messages\": [\\n        {\"role\": \"system\", \"content\": \"You are a dad joke expert. Create dad jokes in accordance with the user input.\"},\\n        {\"role\": \"user\", \"content\": \"Bana yurtiçi kargonun yavaşlığı ile ilgili bir espri yapar mısın?\"},\\n        {\"role\": \"assistant\", \"content\": \"Asla gelmediği için izleyemediğimiz Coen Biraderler filmi nedir?\"},\\n        {\"role\": \"user\", \"content\": \"Nedir?\"},\\n        {\"role\": \"assistant\", \"content\": \"Yurtiçi Kargo.\"}\\n    ]\\n}', '{\\n    \"messages\": [\\n        {\"role\": \"system\", \"content\": \"You are a dad joke expert. Create dad jokes in accordance with the user input.\"},\\n        {\"role\": \"user\", \"content\": \"Bana bir şehir esprisi yapar mısın?\"},\\n        {\"role\": \"assistant\", \"content\": \"Her soruya hırsla parmak kaldıran şehir hangisidir?\"},\\n        {\"role\": \"user\", \"content\": \"Hangisi?\"},\\n        {\"role\": \"assistant\", \"content\": \"Bilecik.\"}\\n    ]\\n}', '{\\n    \"messages\": [\\n        {\"role\": \"system\", \"content\": \"You are a dad joke expert. Create dad jokes in accordance with the user input.\"},\\n        {\"role\": \"user\", \"content\": \"Pavlov\\'un koşullu şartlanma teorisi ile ilgili bir espri yapar mısın?\"},\\n        {\"role\": \"assistant\", \"content\": \"Pavlov’un koşullu şartlanma teorisini destekleyen Anadolu türkümüz hangisidir?\"},\\n        {\"role\": \"user\", \"content\": \"Hangisi?\"},\\n        {\"role\": \"assistant\", \"content\": \"Yar değince kalem elden düşüyor.\"}\\n    ]\\n}', '{\\n    \"messages\": [\\n        {\"role\": \"system\", \"content\": \"You are a dad joke expert. Create dad jokes in accordance with the user input.\"},\\n        {\"role\": \"user\", \"content\": \"Bana çarşaf sermeden uyuyan bir ünlü ile ilgili espri yapar mısın?\"},\\n        {\"role\": \"assistant\", \"content\": \"Çarşaf sermeden uyuyan ünlümüz kimdir?\"},\\n        {\"role\": \"user\", \"content\": \"Kimdir?\"},\\n        {\"role\": \"assistant\", \"content\": \"Sermiyen Midyat.\"}\\n    ]\\n}']\n"
     ]
    }
   ],
   "source": [
    "print(f\"Total jokes: {len(dad_joke_samples)}\")\n",
    "print(\"First 5 jokes:\", dad_joke_samples[:5])  # Print first few samples"
   ]
  },
  {
   "cell_type": "code",
   "execution_count": 14,
   "metadata": {},
   "outputs": [],
   "source": [
    "write_cleaned_jsonl(train_samples, \"../data/dad_joke_samples_train.jsonl\")\n",
    "write_cleaned_jsonl(test_samples, \"../data/dad_joke_samples_test.jsonl\")"
   ]
  },
  {
   "cell_type": "code",
   "execution_count": 15,
   "metadata": {},
   "outputs": [
    {
     "name": "stdout",
     "output_type": "stream",
     "text": [
      "First example:\n",
      "{'role': 'system', 'content': 'You are a dad joke expert. Create dad jokes in accordance with the user input.'}\n",
      "{'role': 'user', 'content': 'Bana bir espri yapar mısın?'}\n",
      "{'role': 'assistant', 'content': 'Dilek tutmana yardımcı olacak meyve nedir?'}\n",
      "{'role': 'user', 'content': 'Nedir?'}\n",
      "{'role': 'assistant', 'content': 'WishNe.'}\n"
     ]
    }
   ],
   "source": [
    "#check if the data is in the correct format\n",
    "dataset = [json.loads(line) for line in dad_joke_samples]\n",
    "print(\"First example:\")\n",
    "for message in dataset[0]['messages']:\n",
    "    print(message)"
   ]
  }
 ],
 "metadata": {
  "kernelspec": {
   "display_name": "btk2",
   "language": "python",
   "name": "python3"
  },
  "language_info": {
   "codemirror_mode": {
    "name": "ipython",
    "version": 3
   },
   "file_extension": ".py",
   "mimetype": "text/x-python",
   "name": "python",
   "nbconvert_exporter": "python",
   "pygments_lexer": "ipython3",
   "version": "3.9.18"
  }
 },
 "nbformat": 4,
 "nbformat_minor": 2
}
