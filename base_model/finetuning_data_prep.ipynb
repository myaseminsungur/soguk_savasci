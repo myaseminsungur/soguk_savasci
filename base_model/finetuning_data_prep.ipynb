{
 "cells": [
  {
   "cell_type": "code",
   "execution_count": 1,
   "metadata": {},
   "outputs": [],
   "source": [
    "from openai import OpenAI\n",
    "from docx import Document"
   ]
  },
  {
   "cell_type": "code",
   "execution_count": 2,
   "metadata": {},
   "outputs": [],
   "source": [
    "\n",
    "# filepath: /path/to/your/file.py\n",
    "from dotenv import load_dotenv\n",
    "import os\n",
    "\n",
    "# Load environment variables from .env file\n",
    "load_dotenv()\n",
    "\n",
    "# Get the OpenAI API key\n",
    "openai_api_key = os.getenv('OPENAI_API_KEY')\n",
    "client = OpenAI()"
   ]
  },
  {
   "cell_type": "code",
   "execution_count": 3,
   "metadata": {},
   "outputs": [
    {
     "name": "stdout",
     "output_type": "stream",
     "text": [
      "['Dilek tutmana yardımcı olacak meyve nedir?: WishNe', 'Asla gelmediği için izleyemediğimiz Coen Biraderler filmi nedir?: Yurtiçi Kargo']\n"
     ]
    }
   ],
   "source": [
    "def convert_doc_to_list():\n",
    "    # Open the Word document\n",
    "    document = Document(\"soguk_savas_soruları.docx\")\n",
    "    qa_list = []\n",
    "    #qa_dict = {}\n",
    "    \n",
    "    # Read through the document paragraph by paragraph\n",
    "    for i in range(len(document.paragraphs) - 1):\n",
    "        # Extract the question\n",
    "        if document.paragraphs[i].text.startswith(\"Q:\"):\n",
    "            question = document.paragraphs[i].text[2:].strip()\n",
    "            \n",
    "            # Extract the answer\n",
    "            if document.paragraphs[i + 1].text.startswith(\"A:\"):\n",
    "                answer = document.paragraphs[i + 1].text[2:].strip()\n",
    "                # Add to the dictionary\n",
    "                qa_list.append(f\"{question}: {answer}\")\n",
    "                \n",
    "    return qa_list\n",
    "\n",
    "# Example usage\n",
    "qa_list = convert_doc_to_list()\n",
    "\n",
    "# save as pickle    \n",
    "import pickle\n",
    "with open('qa_list.pkl', 'wb') as f:\n",
    "    pickle.dump(qa_list, f)\n",
    "# Print the list\n",
    "print(qa_list[:2])"
   ]
  },
  {
   "cell_type": "code",
   "execution_count": 4,
   "metadata": {},
   "outputs": [],
   "source": [
    "system_prompt = \"\"\"\n",
    "Convert following q-a pairs about dad jokes to a chatbot conversation:\n",
    "1. System prompt is \"You are a dad joke expert. Create dad jokes in accordance with the user input.\"\n",
    "2. Create a user input for the q-a pairs. \n",
    "3. Put q-a pairs in proper format. \n",
    "\n",
    "Here is a few examples:\n",
    "q-a pair:\n",
    "'Dilek tutmana yardımcı olacak meyve nedir?': 'WishNe'\n",
    "structured-chatbot-conversation:\n",
    "{\n",
    "    \"messages\": [\n",
    "        {\"role\": \"system\", \"content\": \"You are a dad joke expert. Create dad jokes in accordance with the user input.\"},\n",
    "        {\"role\": \"user\", \"content\": \"Bana bir espri yapar mısın?\"},\n",
    "        {\"role\": \"assistant\", \"content\": \"Dilek tutmana yardımcı olacak meyve nedir?\"},\n",
    "        {\"role\": \"user\", \"content\": \"Nedir?\"},\n",
    "        {\"role\": \"assistant\", \"content\": \"WishNe.\"}\n",
    "    ]\n",
    "}\n",
    "q-a pair:\n",
    "'Asla gelmediği için izleyemediğimiz Coen Biraderler filmi nedir?': 'Yurtiçi Kargo'\n",
    "structured-chatbot-conversation:\n",
    "{\n",
    "    \"messages\": [\n",
    "        {\"role\": \"system\", \"content\": \"You are a dad joke expert. Create dad jokes in accordance with the user input.\"},\n",
    "        {\"role\": \"user\", \"content\": \"Bana yurtiçi kargonun yavaşlığı  ile ilgili bir espri yapar mısın?\"},\n",
    "        {\"role\": \"assistant\", \"content\": \"Asla gelmediği için izleyemediğimiz Coen Biraderler filmi nedir?\"},\n",
    "        {\"role\": \"user\", \"content\": \"Nedir?\"},\n",
    "        {\"role\": \"assistant\", \"content\": \"Yurtiçi Kargo.\"}\n",
    "    ]\n",
    "}\n",
    "q-a pair:\n",
    "'Adı Chaby olan biri ile ilgili bir Karadeniz esprisi yapar mısın?': 'Chaby alabilirsin'\n",
    "structured-chatbot-conversation:\n",
    "{\n",
    "    \"messages\": [\n",
    "        {\"role\": \"system\", \"content\": \"You are a dad joke expert. Create dad jokes in accordance with the user input.\"},\n",
    "        {\"role\": \"user\", \"content\": \"Adı Chaby olan biri ile ilgili bir Karadeniz esprisi yapar mısın?\"},\n",
    "        {\"role\": \"assistant\", \"content\": \"Bir Karadenizliye masadaki sandalyeyi alabilir miyim diye sorduğunda ne der?\"},\n",
    "        {\"role\": \"user\", \"content\": \"Ne der?\"},\n",
    "        {\"role\": \"assistant\", \"content\": \"Chaby alabilirsin\"}\n",
    "    ]\n",
    "}\n",
    "q-a pair:\n",
    "'Bir halı saha maçında antrenör Beyazıt Öztürk’e ‘bu gölü kim atacak?’ diye sorduğunda ne cevap vermiştir?': 'Hocam Ali Atay'\n",
    "structured-chatbot-conversation:\n",
    "{\n",
    "    \"messages\": [\n",
    "        {\"role\": \"system\", \"content\": \"You are a dad joke expert. Create dad jokes in accordance with the user input.\"},\n",
    "        {\"role\": \"user\", \"content\": \" r harflerini söyleyemeyen Beyazıt Öztürk ile ilgili bir espri yapar mısın?\"},\n",
    "        {\"role\": \"assistant\", \"content\": \"Bir halı saha maçında antrenör Beyazıt Öztürk’e ‘bu gölü kim atacak?’ diye sorduğunda ne cevap vermiştir?\"},\n",
    "        {\"role\": \"user\", \"content\": \"Ne cevap vermiştir?\"},\n",
    "        {\"role\": \"assistant\", \"content\": \"Hocam Ali Atay\"}\n",
    "    ]\n",
    "}\n",
    "\"\"\""
   ]
  },
  {
   "cell_type": "code",
   "execution_count": 5,
   "metadata": {},
   "outputs": [],
   "source": [
    "def dad_joke_sample_formatter(qa_pair,system_prompt):\n",
    "    user_content = f\"\"\"\n",
    "    q-a pair: \n",
    "    {qa_pair}\n",
    "    structured-chatbot-conversation:\n",
    "    \"\"\"\n",
    "    completion = client.chat.completions.create(\n",
    "        model=\"gpt-4o-mini\",\n",
    "        messages=[\n",
    "            {\"role\": \"system\", \"content\": system_prompt},\n",
    "            {\n",
    "                \"role\": \"user\",\n",
    "                \"content\": user_content\n",
    "            }\n",
    "        ]\n",
    "    )\n",
    "\n",
    "    return completion.choices[0].message.content"
   ]
  },
  {
   "cell_type": "code",
   "execution_count": null,
   "metadata": {},
   "outputs": [],
   "source": [
    "from tqdm import tqdm\n",
    "\n",
    "dad_joke_samples = []\n",
    "# Show progress\n",
    "print(\"Converting q-a pairs to chatbot conversation format...\")\n",
    "\n",
    "for qa_pair in tqdm(qa_list):\n",
    "    dad_joke_samples.append(dad_joke_sample_formatter(qa_pair, system_prompt))"
   ]
  },
  {
   "cell_type": "code",
   "execution_count": 62,
   "metadata": {},
   "outputs": [],
   "source": [
    "#train-test split\n",
    "train_samples = dad_joke_samples[:int(len(dad_joke_samples)*0.8)]\n",
    "test_samples = dad_joke_samples[int(len(dad_joke_samples)*0.8):]"
   ]
  },
  {
   "cell_type": "code",
   "execution_count": null,
   "metadata": {},
   "outputs": [],
   "source": [
    "train_samples[0]"
   ]
  },
  {
   "cell_type": "code",
   "execution_count": 63,
   "metadata": {},
   "outputs": [],
   "source": [
    "import json\n",
    "import re\n",
    "\n",
    "def write_cleaned_jsonl(dad_joke_samples, output_file):\n",
    "    with open(output_file, \"w\") as f:\n",
    "        for joke in dad_joke_samples:\n",
    "            data = json.loads(joke)\n",
    "            cleaned_text = json.dumps(data, separators=(',', ':'), ensure_ascii=False)\n",
    "            f.write(cleaned_text + \"\\n\")"
   ]
  },
  {
   "cell_type": "code",
   "execution_count": 64,
   "metadata": {},
   "outputs": [],
   "source": [
    "output_file = \"dad_joke_samples_train.jsonl\"\n",
    "write_cleaned_jsonl(train_samples, output_file)\n",
    "\n",
    "output_file = \"dad_joke_samples_test.jsonl\"\n",
    "write_cleaned_jsonl(test_samples, output_file)"
   ]
  },
  {
   "cell_type": "code",
   "execution_count": null,
   "metadata": {},
   "outputs": [],
   "source": [
    "#create jsonl file from the dad_joke_samples\n",
    "#replace \\n with ''\n",
    "\n",
    "import json\n",
    "import re\n",
    "with open(\"dad_joke_samples.jsonl\", \"w\") as f:\n",
    "    for joke in dad_joke_samples:\n",
    "        data = json.loads(joke)\n",
    "        cleaned_text = json.dumps(data, separators=(',', ':'),ensure_ascii=False)\n",
    "        #joke = joke.replace(\"\\n\",\"\")\n",
    "        #joke = re.sub(r'\\s+', '', joke)\n",
    "        f.write(cleaned_text + \"\\n\")"
   ]
  },
  {
   "cell_type": "code",
   "execution_count": 44,
   "metadata": {},
   "outputs": [
    {
     "data": {
      "text/plain": [
       "'{\\n    \"messages\": [\\n        {\"role\": \"system\", \"content\": \"You are a dad joke expert. Create dad jokes in accordance with the user input.\"},\\n        {\"role\": \"user\", \"content\": \"Bana bir espri yapar mısın?\"}, \\n        {\"role\": \"assistant\", \"content\": \"Dilek tutmana yardımcı olacak meyve nedir?\"}, \\n        {\"role\": \"user\", \"content\": \"Nedir?\"}, \\n        {\"role\": \"assistant\", \"content\": \"WishNe.\"}\\n    ]\\n}'"
      ]
     },
     "execution_count": 44,
     "metadata": {},
     "output_type": "execute_result"
    }
   ],
   "source": [
    "dad_joke_samples[0]"
   ]
  },
  {
   "cell_type": "code",
   "execution_count": 46,
   "metadata": {},
   "outputs": [
    {
     "name": "stdout",
     "output_type": "stream",
     "text": [
      "First example:\n",
      "{'role': 'system', 'content': 'You are a dad joke expert. Create dad jokes in accordance with the user input.'}\n",
      "{'role': 'user', 'content': 'Bana bir espri yapar mısın?'}\n",
      "{'role': 'assistant', 'content': 'Dilek tutmana yardımcı olacak meyve nedir?'}\n",
      "{'role': 'user', 'content': 'Nedir?'}\n",
      "{'role': 'assistant', 'content': 'WishNe.'}\n"
     ]
    }
   ],
   "source": [
    "dataset = [json.loads(line) for line in dad_joke_samples]\n",
    "print(\"First example:\")\n",
    "for message in dataset[0]['messages']:\n",
    "    print(message)"
   ]
  },
  {
   "cell_type": "code",
   "execution_count": null,
   "metadata": {},
   "outputs": [],
   "source": [
    "{\n",
    "    \"messages\": [\n",
    "        {\"role\": \"system\", \"content\": \"You are a dad joke expert. Create dad jokes in accordance with the user input.\"},\n",
    "        {\"role\": \"user\", \"content\": \"Adı Chaby olan biri ile ilgili bir Karadeniz esprisi yapar mısın?\"},\n",
    "        {\"role\": \"assistant\", \"content\": \"Reasoning: asdfasşnlşmbvdfVfd Espri sorusu: Bir Karadenizliye masadaki sandalyeyi alabilir miyim diye sorduğunda ne der?\"},\n",
    "        {\"role\": \"user\", \"content\": \"Ne der?\"},\n",
    "        {\"role\": \"assistant\", \"content\": \"Chaby alabilirsin\"}\n",
    "    ]\n",
    "}"
   ]
  }
 ],
 "metadata": {
  "kernelspec": {
   "display_name": "btk2",
   "language": "python",
   "name": "python3"
  },
  "language_info": {
   "codemirror_mode": {
    "name": "ipython",
    "version": 3
   },
   "file_extension": ".py",
   "mimetype": "text/x-python",
   "name": "python",
   "nbconvert_exporter": "python",
   "pygments_lexer": "ipython3",
   "version": "3.9.18"
  }
 },
 "nbformat": 4,
 "nbformat_minor": 2
}
