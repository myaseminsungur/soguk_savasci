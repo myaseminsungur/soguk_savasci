{
 "cells": [
  {
   "cell_type": "code",
   "execution_count": 6,
   "metadata": {},
   "outputs": [],
   "source": [
    "from openai import OpenAI\n",
    "import os\n"
   ]
  },
  {
   "cell_type": "code",
   "execution_count": 7,
   "metadata": {},
   "outputs": [],
   "source": [
    "openai_api_key = os.getenv('OPENAI_API_KEY')"
   ]
  },
  {
   "cell_type": "code",
   "execution_count": 8,
   "metadata": {},
   "outputs": [],
   "source": [
    "client = OpenAI()"
   ]
  },
  {
   "cell_type": "code",
   "execution_count": 12,
   "metadata": {},
   "outputs": [
    {
     "name": "stdout",
     "output_type": "stream",
     "text": [
      "SyncCursorPage[FineTuningJob](data=[FineTuningJob(id='ftjob-CS6URQHmSAxPW8Z2eKLLbO2Z', created_at=1739198765, error=Error(code=None, message=None, param=None), fine_tuned_model='ft:gpt-4o-2024-08-06:personal:cold-warrior-reasoning:AzPUeQFT', finished_at=1739199367, hyperparameters=Hyperparameters(batch_size=1, learning_rate_multiplier=2.0, n_epochs=3), model='gpt-4o-2024-08-06', object='fine_tuning.job', organization_id='org-RuBNDg5GaMqiVIMAjwK7becX', result_files=['file-79oc7iYHrBVcELNTE72F2M'], seed=206067273, status='succeeded', trained_tokens=49965, training_file='file-XZkorTai3cwNRvj4t3Eaap', validation_file='file-1fwP5mJBAVSJm1enXNHvWC', estimated_finish=None, integrations=[], method=Method(dpo=None, supervised=MethodSupervised(hyperparameters=MethodSupervisedHyperparameters(batch_size=1, learning_rate_multiplier=2.0, n_epochs=3)), type='supervised'), user_provided_suffix='cold-warrior-reasoning'), FineTuningJob(id='ftjob-xdL5q8K4HdjaLxkKCWfvv7FE', created_at=1739197697, error=Error(code=None, message=None, param=None), fine_tuned_model='ft:gpt-4o-2024-08-06:personal:cold-warrior-reasoning:AzPClSGw', finished_at=1739198257, hyperparameters=Hyperparameters(batch_size=1, learning_rate_multiplier=2.0, n_epochs=3), model='gpt-4o-2024-08-06', object='fine_tuning.job', organization_id='org-RuBNDg5GaMqiVIMAjwK7becX', result_files=['file-JYsqjpP5h7S8GEhyqLLvDX'], seed=1253202231, status='succeeded', trained_tokens=49965, training_file='file-XZkorTai3cwNRvj4t3Eaap', validation_file='file-1fwP5mJBAVSJm1enXNHvWC', estimated_finish=None, integrations=[], method=Method(dpo=None, supervised=MethodSupervised(hyperparameters=MethodSupervisedHyperparameters(batch_size=1, learning_rate_multiplier=2.0, n_epochs=3)), type='supervised'), user_provided_suffix='cold-warrior-reasoning'), FineTuningJob(id='ftjob-xHplZXsTvwZq8gnv6vpynwtH', created_at=1739195958, error=Error(code=None, message=None, param=None), fine_tuned_model='ft:gpt-4o-2024-08-06:personal:cold-warrior-reasoning:AzOkcWcw', finished_at=1739196512, hyperparameters=Hyperparameters(batch_size=1, learning_rate_multiplier=2.0, n_epochs=3), model='gpt-4o-2024-08-06', object='fine_tuning.job', organization_id='org-RuBNDg5GaMqiVIMAjwK7becX', result_files=['file-Uta4BumSjz9pKP84fjAqGj'], seed=699601796, status='succeeded', trained_tokens=49965, training_file='file-XZkorTai3cwNRvj4t3Eaap', validation_file='file-1fwP5mJBAVSJm1enXNHvWC', estimated_finish=None, integrations=[], method=Method(dpo=None, supervised=MethodSupervised(hyperparameters=MethodSupervisedHyperparameters(batch_size=1, learning_rate_multiplier=2.0, n_epochs=3)), type='supervised'), user_provided_suffix='cold-warrior-reasoning'), FineTuningJob(id='ftjob-1d4naLG5aPxm5KKXl4ZPVsp8', created_at=1739193895, error=Error(code=None, message=None, param=None), fine_tuned_model='ft:gpt-4o-mini-2024-07-18:personal::AzOC0pEr', finished_at=1739194366, hyperparameters=Hyperparameters(batch_size=1, learning_rate_multiplier=1.8, n_epochs=3), model='gpt-4o-mini-2024-07-18', object='fine_tuning.job', organization_id='org-RuBNDg5GaMqiVIMAjwK7becX', result_files=['file-9V5bmhUNPuTQLJwdGtZ36P'], seed=1210483144, status='succeeded', trained_tokens=12108, training_file='file-Jp47nPA2Eq2S9p7VXCEsWz', validation_file='file-14gtA38iuJ7sJgqBmwsyNC', estimated_finish=None, integrations=[], method=Method(dpo=None, supervised=MethodSupervised(hyperparameters=MethodSupervisedHyperparameters(batch_size=1, learning_rate_multiplier=1.8, n_epochs=3)), type='supervised'), user_provided_suffix=None), FineTuningJob(id='ftjob-2ATXiHjoeP0guwRzLG9QPjLW', created_at=1735409095, error=Error(code=None, message=None, param=None), fine_tuned_model='ft:gpt-4o-2024-08-06:personal:cold-warrior-reasoning:AjVcytwt', finished_at=1735409698, hyperparameters=Hyperparameters(batch_size=1, learning_rate_multiplier=2.0, n_epochs=3), model='gpt-4o-2024-08-06', object='fine_tuning.job', organization_id='org-RuBNDg5GaMqiVIMAjwK7becX', result_files=['file-VAMAd3hrT2QneScUQ4o99V'], seed=834169983, status='succeeded', trained_tokens=49965, training_file='file-XZkorTai3cwNRvj4t3Eaap', validation_file='file-1fwP5mJBAVSJm1enXNHvWC', estimated_finish=None, integrations=[], method=Method(dpo=None, supervised=MethodSupervised(hyperparameters=MethodSupervisedHyperparameters(batch_size=1, learning_rate_multiplier=2.0, n_epochs=3)), type='supervised'), user_provided_suffix='cold-warrior-reasoning'), FineTuningJob(id='ftjob-wJZxQyNGWCwO0l0lLSRimVrW', created_at=1735407797, error=Error(code=None, message=None, param=None), fine_tuned_model='ft:gpt-4o-mini-2024-07-18:personal:cold-warrior-reasoning:AjVEkd6m', finished_at=1735408197, hyperparameters=Hyperparameters(batch_size=1, learning_rate_multiplier=1.8, n_epochs=3), model='gpt-4o-mini-2024-07-18', object='fine_tuning.job', organization_id='org-RuBNDg5GaMqiVIMAjwK7becX', result_files=['file-EcS34GWSbfzdTT6bqYZKNn'], seed=1437172123, status='succeeded', trained_tokens=49965, training_file='file-XZkorTai3cwNRvj4t3Eaap', validation_file='file-1fwP5mJBAVSJm1enXNHvWC', estimated_finish=None, integrations=[], method=Method(dpo=None, supervised=MethodSupervised(hyperparameters=MethodSupervisedHyperparameters(batch_size=1, learning_rate_multiplier=1.8, n_epochs=3)), type='supervised'), user_provided_suffix='cold-warrior-reasoning'), FineTuningJob(id='ftjob-34rI6p35wsPEGLjrK6R1pUCp', created_at=1735328907, error=Error(code=None, message=None, param=None), fine_tuned_model='ft:gpt-4o-mini-2024-07-18:personal::AjAj8dcn', finished_at=1735329356, hyperparameters=Hyperparameters(batch_size=1, learning_rate_multiplier=1.8, n_epochs=3), model='gpt-4o-mini-2024-07-18', object='fine_tuning.job', organization_id='org-RuBNDg5GaMqiVIMAjwK7becX', result_files=['file-6MVXhHdTL8BVZCAgfhqjtr'], seed=492436941, status='succeeded', trained_tokens=12108, training_file='file-Jp47nPA2Eq2S9p7VXCEsWz', validation_file='file-14gtA38iuJ7sJgqBmwsyNC', estimated_finish=None, integrations=[], method=Method(dpo=None, supervised=MethodSupervised(hyperparameters=MethodSupervisedHyperparameters(batch_size=1, learning_rate_multiplier=1.8, n_epochs=3)), type='supervised'), user_provided_suffix=None)], object='list', has_more=False)\n"
     ]
    }
   ],
   "source": [
    "print(client.fine_tuning.jobs.list())"
   ]
  },
  {
   "cell_type": "code",
   "execution_count": 13,
   "metadata": {},
   "outputs": [
    {
     "name": "stdout",
     "output_type": "stream",
     "text": [
      "Model: ft:gpt-4o-2024-08-06:personal:cold-warrior-reasoning:AzPUeQFT\n",
      "Created: 1739198765\n",
      "Status: succeeded\n",
      "--------------------------------------------------\n",
      "Model: ft:gpt-4o-2024-08-06:personal:cold-warrior-reasoning:AzPClSGw\n",
      "Created: 1739197697\n",
      "Status: succeeded\n",
      "--------------------------------------------------\n",
      "Model: ft:gpt-4o-2024-08-06:personal:cold-warrior-reasoning:AzOkcWcw\n",
      "Created: 1739195958\n",
      "Status: succeeded\n",
      "--------------------------------------------------\n",
      "Model: ft:gpt-4o-mini-2024-07-18:personal::AzOC0pEr\n",
      "Created: 1739193895\n",
      "Status: succeeded\n",
      "--------------------------------------------------\n",
      "Model: ft:gpt-4o-2024-08-06:personal:cold-warrior-reasoning:AjVcytwt\n",
      "Created: 1735409095\n",
      "Status: succeeded\n",
      "--------------------------------------------------\n",
      "Model: ft:gpt-4o-mini-2024-07-18:personal:cold-warrior-reasoning:AjVEkd6m\n",
      "Created: 1735407797\n",
      "Status: succeeded\n",
      "--------------------------------------------------\n",
      "Model: ft:gpt-4o-mini-2024-07-18:personal::AjAj8dcn\n",
      "Created: 1735328907\n",
      "Status: succeeded\n",
      "--------------------------------------------------\n"
     ]
    }
   ],
   "source": [
    "jobs = client.fine_tuning.jobs.list()\n",
    "sorted_jobs = sorted(jobs.data, key=lambda x: x.created_at, reverse=True)\n",
    "\n",
    "for job in sorted_jobs:\n",
    "    print(f\"Model: {job.fine_tuned_model or 'In Progress'}\")\n",
    "    print(f\"Created: {job.created_at}\")\n",
    "    print(f\"Status: {job.status}\")\n",
    "    print(\"-\" * 50)"
   ]
  },
  {
   "cell_type": "code",
   "execution_count": null,
   "metadata": {},
   "outputs": [],
   "source": []
  }
 ],
 "metadata": {
  "kernelspec": {
   "display_name": "btk2",
   "language": "python",
   "name": "python3"
  },
  "language_info": {
   "codemirror_mode": {
    "name": "ipython",
    "version": 3
   },
   "file_extension": ".py",
   "mimetype": "text/x-python",
   "name": "python",
   "nbconvert_exporter": "python",
   "pygments_lexer": "ipython3",
   "version": "3.9.18"
  }
 },
 "nbformat": 4,
 "nbformat_minor": 2
}
