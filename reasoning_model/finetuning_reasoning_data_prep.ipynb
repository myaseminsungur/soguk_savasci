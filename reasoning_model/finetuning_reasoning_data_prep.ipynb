{
 "cells": [
  {
   "cell_type": "code",
   "execution_count": 1,
   "metadata": {},
   "outputs": [],
   "source": [
    "import json\n",
    "import re"
   ]
  },
  {
   "cell_type": "code",
   "execution_count": 2,
   "metadata": {},
   "outputs": [],
   "source": [
    "from openai import OpenAI\n",
    "\n",
    "# filepath: /path/to/your/file.py\n",
    "from dotenv import load_dotenv\n",
    "import os\n",
    "\n",
    "# Load environment variables from .env file\n",
    "load_dotenv()\n",
    "\n",
    "# Get the OpenAI API key\n",
    "openai_api_key = os.getenv('OPENAI_API_KEY')\n",
    "client = OpenAI()"
   ]
  },
  {
   "cell_type": "code",
   "execution_count": 3,
   "metadata": {},
   "outputs": [],
   "source": [
    "#load reasonings\n",
    "with open('../data/reasonings.json', 'r') as f:\n",
    "    reasonings = json.load(f)"
   ]
  },
  {
   "cell_type": "code",
   "execution_count": 4,
   "metadata": {},
   "outputs": [
    {
     "data": {
      "text/plain": [
       "{'messages': [{'role': 'system',\n",
       "   'content': 'You are a dad joke expert. Create dad jokes in accordance with the user input.'},\n",
       "  {'role': 'user', 'content': 'Bana bir espri yapar mısın?'},\n",
       "  {'role': 'assistant',\n",
       "   'content': 'Dilek tutmana yardımcı olacak meyve nedir?'},\n",
       "  {'role': 'user', 'content': 'Nedir?'},\n",
       "  {'role': 'assistant', 'content': 'WishNe.'}]}"
      ]
     },
     "execution_count": 4,
     "metadata": {},
     "output_type": "execute_result"
    }
   ],
   "source": [
    "data_path = \"../data/dad_joke_samples.jsonl\"\n",
    "\n",
    "# Load the dataset\n",
    "with open(data_path, 'r', encoding='utf-8') as f:\n",
    "    dataset = [json.loads(line) for line in f]\n",
    "dataset[0]"
   ]
  },
  {
   "cell_type": "code",
   "execution_count": 5,
   "metadata": {},
   "outputs": [],
   "source": [
    "system_prompt = \"You are Soğuk Savaşçı. You are a dad joke expert. Given a user input you create offensive, clever and funny dad jokes in Turkish.\"\n",
    "\n",
    "#replace system_prompt for all samples in dataset\n",
    "for i in range(len(dataset)):\n",
    "    #print(dataset[i]['messages'][0]['content'])\n",
    "    dataset[i]['messages'][0]['content'] = system_prompt"
   ]
  },
  {
   "cell_type": "code",
   "execution_count": 6,
   "metadata": {},
   "outputs": [],
   "source": [
    "for sample,reasoning in zip(dataset,reasonings):\n",
    "    content = sample['messages'][2]['content']\n",
    "    new_content = f\"\"\"Reasoning:\n",
    "{reasoning}\n",
    "Soru:\n",
    "{content}\"\"\"\n",
    "    \n",
    "    sample['messages'][2]['content'] = new_content\n",
    "    "
   ]
  },
  {
   "cell_type": "code",
   "execution_count": 7,
   "metadata": {},
   "outputs": [],
   "source": [
    "#train-test split\n",
    "train_samples = dataset[:int(len(dataset)*0.8)]\n",
    "test_samples = dataset[int(len(dataset)*0.8):]"
   ]
  },
  {
   "cell_type": "code",
   "execution_count": 8,
   "metadata": {},
   "outputs": [
    {
     "data": {
      "text/plain": [
       "{'messages': [{'role': 'system',\n",
       "   'content': 'You are Soğuk Savaşçı. You are a dad joke expert. Given a user input you create offensive, clever and funny dad jokes in Turkish.'},\n",
       "  {'role': 'user', 'content': 'Bana bir espri yapar mısın?'},\n",
       "  {'role': 'assistant',\n",
       "   'content': 'Reasoning:\\nKullanıcı benden bir espri yapmamı istiyor, belirli bir konuya odaklanmamış olduğu için geniş bir yaratıcılık alanım var. Kelime oyunları genellikle hem basit hem de etkili olabilir. İngilizce ve Türkçe arasında bir benzerlik bulmak eğlenceli olabilir. İngilizcede \"wish\" kelimesi, Türkçede \"dilek\" anlamına gelir. Aynı zamanda Türkçe’de \"vişne\" kelimesinin ilk hecesi \"wish\" gibi telaffuz edilir. Buradan hareketle, bir kelime oyunu oluşturabilirim: \"dilek tutmaya yardımcı olan bir meyve\" şeklinde bir soru sorarak \"wish\" kelimesinin Türkçe fonetik benzerliğinden yararlanırım. Sorunun cevabı ise fonetik benzerliği belirginleştirmek adına \"WishNe\" olur. Bu espriyi yaparken, iki dilin ses benzerliklerini kullanarak bir gülümseme yaratabileceğimi düşünüyorum. Ayrıca meyve isimlerini esprinin merkezine koymak, günlük hayatta karşılaşabileceğimiz objelerle ilgili bir mizah oluşturuyor.\\nSoru:\\nDilek tutmana yardımcı olacak meyve nedir?'},\n",
       "  {'role': 'user', 'content': 'Nedir?'},\n",
       "  {'role': 'assistant', 'content': 'WishNe.'}]}"
      ]
     },
     "execution_count": 8,
     "metadata": {},
     "output_type": "execute_result"
    }
   ],
   "source": [
    "train_samples[0]"
   ]
  },
  {
   "cell_type": "code",
   "execution_count": 9,
   "metadata": {},
   "outputs": [],
   "source": [
    "def write_cleaned_jsonl(dad_joke_samples, output_file):\n",
    "    with open(output_file, \"w\") as f:\n",
    "        for joke in dad_joke_samples:\n",
    "            #data = json.loads(joke)\n",
    "            cleaned_text = json.dumps(joke, separators=(',', ':'), ensure_ascii=False)\n",
    "            f.write(cleaned_text + \"\\n\")\n",
    "            \n",
    "output_file = \"dad_joke_reasoning_samples_train.jsonl\"\n",
    "write_cleaned_jsonl(train_samples, output_file)\n",
    "\n",
    "output_file = \"dad_joke_reasoning_samples_test.jsonl\"\n",
    "write_cleaned_jsonl(test_samples, output_file)\n",
    "\n",
    "\n"
   ]
  }
 ],
 "metadata": {
  "kernelspec": {
   "display_name": "btk2",
   "language": "python",
   "name": "python3"
  },
  "language_info": {
   "codemirror_mode": {
    "name": "ipython",
    "version": 3
   },
   "file_extension": ".py",
   "mimetype": "text/x-python",
   "name": "python",
   "nbconvert_exporter": "python",
   "pygments_lexer": "ipython3",
   "version": "3.9.18"
  }
 },
 "nbformat": 4,
 "nbformat_minor": 2
}
