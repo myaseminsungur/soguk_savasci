{
 "cells": [
  {
   "cell_type": "code",
   "execution_count": 8,
   "metadata": {},
   "outputs": [],
   "source": [
    "from openai import OpenAI\n",
    "\n",
    "# filepath: /path/to/your/file.py\n",
    "from dotenv import load_dotenv\n",
    "import os\n",
    "\n",
    "# Load environment variables from .env file\n",
    "load_dotenv()\n",
    "\n",
    "# Get the OpenAI API key\n",
    "openai_api_key = os.getenv('OPENAI_API_KEY')\n",
    "client = OpenAI()"
   ]
  },
  {
   "cell_type": "code",
   "execution_count": 9,
   "metadata": {},
   "outputs": [
    {
     "data": {
      "text/plain": [
       "FileObject(id='file-RupsWX4Jow3xkvbKASNVfH', bytes=72417, created_at=1739197688, filename='dad_joke_reasoning_samples_train.jsonl', object='file', purpose='fine-tune', status='processed', status_details=None)"
      ]
     },
     "execution_count": 9,
     "metadata": {},
     "output_type": "execute_result"
    }
   ],
   "source": [
    "\n",
    "\n",
    "client.files.create(\n",
    "  file=open(\"dad_joke_reasoning_samples_test.jsonl\", \"rb\"),\n",
    "  purpose=\"fine-tune\"\n",
    ")\n",
    "\n",
    "client.files.create(\n",
    "  file=open(\"dad_joke_reasoning_samples_train.jsonl\", \"rb\"),\n",
    "  purpose=\"fine-tune\"\n",
    ")"
   ]
  },
  {
   "cell_type": "code",
   "execution_count": 10,
   "metadata": {},
   "outputs": [
    {
     "name": "stdout",
     "output_type": "stream",
     "text": [
      "DAD_JOKE_REASONING_SAMPLES_TRAIN.JSONL : file-RupsWX4Jow3xkvbKASNVfH\n",
      "DAD_JOKE_REASONING_SAMPLES_TEST.JSONL : file-AUBGAikbAQqQu87UNL4xTB\n",
      "DAD_JOKE_REASONING_SAMPLES_TRAIN.JSONL : file-W6ENYGH6B4PWEhAYb3SJ4e\n",
      "DAD_JOKE_REASONING_SAMPLES_TEST.JSONL : file-CBpU2v53Y4VT86GWtqHcuC\n",
      "DAD_JOKE_SAMPLES_TEST.JSONL : file-AkPWUJUXbsLLsdkETJrgW4\n",
      "DAD_JOKE_SAMPLES_TRAIN.JSONL : file-78aGFZduAzCr7gNpULVkpD\n",
      "DAD_JOKE_REASONING_SAMPLES_TRAIN.JSONL : file-XZkorTai3cwNRvj4t3Eaap\n",
      "DAD_JOKE_REASONING_SAMPLES_TEST.JSONL : file-1fwP5mJBAVSJm1enXNHvWC\n",
      "DAD_JOKE_SAMPLES_TEST.JSONL : file-14gtA38iuJ7sJgqBmwsyNC\n",
      "DAD_JOKE_SAMPLES_TRAIN.JSONL : file-Jp47nPA2Eq2S9p7VXCEsWz\n"
     ]
    }
   ],
   "source": [
    "files = client.files.list(purpose=\"fine-tune\")\n",
    "\n",
    "for file in files:\n",
    "    print(file.filename.upper(),':',file.id)"
   ]
  },
  {
   "cell_type": "code",
   "execution_count": 15,
   "metadata": {},
   "outputs": [
    {
     "data": {
      "text/plain": [
       "FineTuningJob(id='ftjob-CS6URQHmSAxPW8Z2eKLLbO2Z', created_at=1739198765, error=Error(code=None, message=None, param=None), fine_tuned_model=None, finished_at=None, hyperparameters=Hyperparameters(batch_size='auto', learning_rate_multiplier='auto', n_epochs='auto'), model='gpt-4o-2024-08-06', object='fine_tuning.job', organization_id='org-RuBNDg5GaMqiVIMAjwK7becX', result_files=[], seed=206067273, status='validating_files', trained_tokens=None, training_file='file-XZkorTai3cwNRvj4t3Eaap', validation_file='file-1fwP5mJBAVSJm1enXNHvWC', estimated_finish=None, integrations=[], method=Method(dpo=None, supervised=MethodSupervised(hyperparameters=MethodSupervisedHyperparameters(batch_size='auto', learning_rate_multiplier='auto', n_epochs='auto')), type='supervised'), user_provided_suffix='cold-warrior-reasoning')"
      ]
     },
     "execution_count": 15,
     "metadata": {},
     "output_type": "execute_result"
    }
   ],
   "source": [
    "client.fine_tuning.jobs.create(\n",
    "  training_file=\"file-XZkorTai3cwNRvj4t3Eaap\",\n",
    "  validation_file =\"file-1fwP5mJBAVSJm1enXNHvWC\",\n",
    "  model=\"gpt-4o-2024-08-06\",\n",
    "  suffix=\"cold-warrior-reasoning\"\n",
    ")"
   ]
  },
  {
   "cell_type": "code",
   "execution_count": 16,
   "metadata": {},
   "outputs": [
    {
     "name": "stdout",
     "output_type": "stream",
     "text": [
      "Fine-tuning job started\n",
      "Fine-tuning job started\n",
      "Fine-tuning job started\n",
      "Fine-tuning job started\n",
      "Fine-tuning job started\n",
      "Fine-tuning job started\n",
      "Fine-tuning job started\n",
      "Fine-tuning job started\n",
      "Fine-tuning job started\n",
      "Fine-tuning job started\n",
      "Fine-tuning job started\n",
      "Step 1/144: training loss=1.59\n",
      "Step 4/144: training loss=1.29\n",
      "Step 9/144: training loss=1.38\n",
      "Step 16/144: training loss=1.21\n",
      "Step 30/144: training loss=1.37, validation loss=1.11\n",
      "Step 41/144: training loss=1.19\n",
      "Step 49/144: training loss=1.28\n",
      "Step 60/144: training loss=1.00, validation loss=0.93\n",
      "Step 75/144: training loss=1.21\n",
      "Step 87/144: training loss=1.08\n",
      "Step 96/144: training loss=0.81, full validation loss=1.09\n",
      "Step 96/144: training loss=0.81, full validation loss=1.09\n",
      "Step 108/144: training loss=0.91\n",
      "Step 119/144: training loss=0.77\n",
      "Step 131/144: training loss=0.94\n",
      "Step 141/144: training loss=0.94\n",
      "Step 144/144: training loss=1.14, validation loss=1.01, full validation loss=1.09\n",
      "Step 144/144: training loss=1.14, validation loss=1.01, full validation loss=1.09\n",
      "New fine-tuned model created\n",
      "The job has successfully completed\n"
     ]
    }
   ],
   "source": [
    "import time\n",
    "\n",
    "\n",
    "while True:\n",
    "    events = client.fine_tuning.jobs.list_events(fine_tuning_job_id=\"ftjob-CS6URQHmSAxPW8Z2eKLLbO2Z\", limit=10)\n",
    "    message = events.data[0].message\n",
    "    print(message)\n",
    "    if message == \"The job has successfully completed\":\n",
    "        break\n",
    "    \n",
    "\n",
    "    time.sleep(20)"
   ]
  },
  {
   "cell_type": "code",
   "execution_count": 17,
   "metadata": {},
   "outputs": [
    {
     "name": "stdout",
     "output_type": "stream",
     "text": [
      "ft:gpt-4o-2024-08-06:personal:cold-warrior-reasoning:AzPUeQFT\n"
     ]
    }
   ],
   "source": [
    "# Retrieve the state of a fine-tune\n",
    "dad_joke_model = client.fine_tuning.jobs.retrieve(\"ftjob-CS6URQHmSAxPW8Z2eKLLbO2Z\").fine_tuned_model\n",
    "print(dad_joke_model)"
   ]
  },
  {
   "cell_type": "code",
   "execution_count": null,
   "metadata": {},
   "outputs": [],
   "source": []
  }
 ],
 "metadata": {
  "kernelspec": {
   "display_name": "btk2",
   "language": "python",
   "name": "python3"
  },
  "language_info": {
   "codemirror_mode": {
    "name": "ipython",
    "version": 3
   },
   "file_extension": ".py",
   "mimetype": "text/x-python",
   "name": "python",
   "nbconvert_exporter": "python",
   "pygments_lexer": "ipython3",
   "version": "3.9.18"
  }
 },
 "nbformat": 4,
 "nbformat_minor": 2
}
