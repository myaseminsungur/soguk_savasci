{
 "cells": [
  {
   "cell_type": "code",
   "execution_count": 3,
   "metadata": {},
   "outputs": [],
   "source": [
    "import random\n",
    "import json"
   ]
  },
  {
   "cell_type": "code",
   "execution_count": 4,
   "metadata": {},
   "outputs": [],
   "source": [
    "from openai import OpenAI\n",
    "\n",
    "# filepath: /path/to/your/file.py\n",
    "from dotenv import load_dotenv\n",
    "import os\n",
    "\n",
    "# Load environment variables from .env file\n",
    "load_dotenv()\n",
    "\n",
    "# Get the OpenAI API key\n",
    "openai_api_key = os.getenv('OPENAI_API_KEY')\n",
    "client = OpenAI()"
   ]
  },
  {
   "cell_type": "code",
   "execution_count": 5,
   "metadata": {},
   "outputs": [
    {
     "data": {
      "text/plain": [
       "['Dilek tutmana yardımcı olacak meyve nedir?: WishNe',\n",
       " 'Asla gelmediği için izleyemediğimiz Coen Biraderler filmi nedir?: Yurtiçi Kargo']"
      ]
     },
     "execution_count": 5,
     "metadata": {},
     "output_type": "execute_result"
    }
   ],
   "source": [
    "#read_qa_pairs\n",
    "qa_path = \"../data/qa_list.json\"\n",
    "with open(qa_path, 'rb') as f:\n",
    "    qa_list = json.load(f)\n",
    "qa_list[:2]"
   ]
  },
  {
   "cell_type": "code",
   "execution_count": 6,
   "metadata": {},
   "outputs": [
    {
     "data": {
      "text/plain": [
       "{'messages': [{'role': 'system',\n",
       "   'content': 'You are a dad joke expert. Create dad jokes in accordance with the user input.'},\n",
       "  {'role': 'user', 'content': 'Bana bir espri yapar mısın?'},\n",
       "  {'role': 'assistant',\n",
       "   'content': 'Dilek tutmana yardımcı olacak meyve nedir?'},\n",
       "  {'role': 'user', 'content': 'Nedir?'},\n",
       "  {'role': 'assistant', 'content': 'WishNe.'}]}"
      ]
     },
     "execution_count": 6,
     "metadata": {},
     "output_type": "execute_result"
    }
   ],
   "source": [
    "data_path = \"../data/dad_joke_samples.jsonl\"\n",
    "\n",
    "# Load the dataset\n",
    "with open(data_path, 'r', encoding='utf-8') as f:\n",
    "    dataset = [json.loads(line) for line in f]\n",
    "dataset[0]"
   ]
  },
  {
   "cell_type": "code",
   "execution_count": 7,
   "metadata": {},
   "outputs": [
    {
     "data": {
      "text/plain": [
       "29"
      ]
     },
     "execution_count": 7,
     "metadata": {},
     "output_type": "execute_result"
    }
   ],
   "source": [
    "def find_dict_index(lst, search_string):\n",
    "    for index, dictionary in enumerate(lst):\n",
    "        if any(search_string in str(value) for value in dictionary.values()):\n",
    "            return index\n",
    "    return -1 \n",
    "\n",
    "find_dict_index(dataset, \"Beyazıt\")"
   ]
  },
  {
   "cell_type": "code",
   "execution_count": 8,
   "metadata": {},
   "outputs": [
    {
     "data": {
      "text/plain": [
       "['Bana bir espri yapar mısın?',\n",
       " 'Yurtiçi Kargo ile ilgili bir espri yapar mısın?']"
      ]
     },
     "execution_count": 8,
     "metadata": {},
     "output_type": "execute_result"
    }
   ],
   "source": [
    "user_inputs = [sample['messages'][1]['content'] for sample in dataset]\n",
    "user_inputs[:2]"
   ]
  },
  {
   "cell_type": "code",
   "execution_count": 9,
   "metadata": {},
   "outputs": [
    {
     "name": "stdout",
     "output_type": "stream",
     "text": [
      "user_input:\n",
      "R harflerini söyleyemeyen Beyazıt Öztürk ile ilgili bir espri yapar mısın?\n",
      "qa_pair:\n",
      "Kurtlar Vadisi’nde neden hiç yük taşıma sahnesi yoktur?: Çünkü iki kişinin bindiği tır, tır değildir.\n"
     ]
    }
   ],
   "source": [
    "examples = [f\"user_input:\\n{user_input}\\nqa_pair:\\n{qa_pair}\" for user_input, qa_pair in zip(user_inputs, qa_list)]\n",
    "print(examples[29])"
   ]
  },
  {
   "cell_type": "code",
   "execution_count": 10,
   "metadata": {},
   "outputs": [],
   "source": [
    "system_prompt = \"\"\"\n",
    "Given a user_input and qa_pair of a dad joke written in Turkish, generate a thinking steps in plain text with a few sentences from your point of view  as if you are right before to create this joke. \n",
    "Here a few examples:\n",
    "user_input:\n",
    "Bana bir espri yapar mısın?\n",
    "qa_pair:\n",
    "Dilek tutmana yardımcı olacak meyve nedir?: WishNe\n",
    "reasoning:\n",
    "Kulanıcı benden bir espri yapmamı istiyor, özellikle bir tema belirlememiş o yüzden istediğim konuda bir espri yapabilirim. Türkçe ve İngilizce dillerini kullanarak bir kelime şakası yapabilirim. İngilizcedeki cherry meyvesi Türkçe'de vişne olarak yazılır. İlk hecesinin okunuşu ingilizcedeki wish kelimesinin okunuşu gibidir. Buradan yola çıkarak bir kelime şakası yapabilirim. Dilek tutmak ve vişne kelimesi arasında bir bağlantı kurarak bir espri yapabilirim. Türkçedeki vişne kelimesinin ingilizcedeki Wish ile fonetik bağlantısını göstermek için vişnenin ilk hecesini ingilizce olarak yazabilirim. Cevabı WishNe olan bir soru oluşturabilirim. Soruyu oluşturuken de vişne ve wish kelimelerinin benzerliğine dikkat çekmem gerekir. Wish kelimesinin Türkçe anlamı dilek tutmaktır, vişne bir meyve ismidir. Bu yüzden dilek tutmana yardımcı olacak meyve nedir? sorusunu sorabilirim. \n",
    "\n",
    "user_input:\n",
    "Bana bir espri yapar mısın?\n",
    "qa_pair:\n",
    "Bir halı saha maçında antrenör Beyazıt Öztürk’e ‘bu gölü kim atacak?’ diye sorduğunda ne cevap vermiştir?: Ali Atay\n",
    "reasoning:\n",
    "Kullanıcı benden bir espri yapmamı istiyor. Esprinin konu ve temasını belirlemeden serbest bir şekilde yaratabileceğim için aklıma birkaç farklı yaklaşım geliyor. Halı saha maçları ve futbol, Türkiye'deki popüler konulardan biri. Ayrıca, Türk komedyen ve televizyoncu Beyazıt Öztürk'ü esprime dahil ederek tanıdık bir figür yaratabilirim. \"Ali Atay\" ismi, hem bir aktör hem de futbol terimi olan \"gol atma\" fikriyle bağlantılı. Beyazıt Öztürk'ün r harflerini söylemekte zorlandığı biliniyor. 'r' harflerini söyleyemeyen insanlar genelde bu harfi 'y' gibi söylerler. Bu yüzden Ali Atay ismindeki 'y' harfini 'r' harfine çevirerek bir kelime oyunu yapabilirim. Böylelikle Ali Atay ismi Ali Atar oluyor, bu da türkçedeki atmak fiiliyle benzer bir ses yapısı oluşturuyor. Bu yüzden antrenör Beyazıt Öztürk'e 'bu gölü kim atacak?' diye sorduğunda ne cevap vermiştir? sorusunu sorabilirim. Cevap olarak da Ali Atay diyebilirim. Beyazıt Öztürk bu soruya cevap vermek istediğinde Ali Atar diyemeyeceği için Ali Atay diyebilir ve Ali Atay ünlü bir oyuncu olduğu için bu komik bir durum oluşturur. \n",
    "\"\"\""
   ]
  },
  {
   "cell_type": "code",
   "execution_count": 11,
   "metadata": {},
   "outputs": [],
   "source": [
    "def joke_resoning_generator(user_input,system_prompt):\n",
    "    user_content = f\"\"\"\n",
    "    {user_input}\n",
    "    reasoning:\n",
    "    \"\"\"\n",
    "    completion = client.chat.completions.create(\n",
    "        model=\"gpt-4o\",\n",
    "        messages=[\n",
    "            {\"role\": \"system\", \"content\": system_prompt},\n",
    "            {\n",
    "                \"role\": \"user\",\n",
    "                \"content\": user_content\n",
    "            }\n",
    "        ]\n",
    "    ) \n",
    "\n",
    "    return completion.choices[0].message.content"
   ]
  },
  {
   "cell_type": "code",
   "execution_count": 12,
   "metadata": {},
   "outputs": [
    {
     "name": "stdout",
     "output_type": "stream",
     "text": [
      "Kullanıcı benden kapalı mekanlarla ilgili bir espri yapmamı istiyor. İsteği üzerine düşünürken, kapalı mekanların genellikle özel ve kişisel anların yaşandığı yerler olduğunu fark ediyorum. Buradan yola çıkarak, insanların özel hayatlarıyla ilgili komik bir durumdan esinlenebilirim. Kapalı mekan denilince akla gelen alanlardan biri, insanların en mahrem anlarını ve kişisel ilişkilerini yaşadıkları yatak odaları olabilir. Genellikle bu özel anlar haricinde açıkça konuşulmasa da, toplum içinde cinsel hayat kavramı her zaman espri konusu olmuştur. Ayrıca, \"rol oynamak\" ve \"gösterim\" kelimeleri tiyatral bir atmosferi çağrıştırıyor, ki bu da kapalı alan temasıyla uyumlu. Herkesin bir rolü olduğu, yani cinsel ilişkide rollerin ve beklentilerin yer aldığı duruma bir gönderme yaparak, kişisel hayatların genelde eğlenceli bir biçimde başkaları için komik malzeme oluşturduğunu ifade edebilirim. Buradan, kapalı mekanlar ve herkesin rol oynadığı komik durumları birleştirerek, \"Cinsel Hayatım\" ifadesiyle sıra dışı bir espri yapabilirim. Bu kelime oyunu, bir anlamda klişe ve tabulara yenilikçi bir bakış açısı sunsun ve esprinin beklenmedikliğiyle güldürsün.\n"
     ]
    }
   ],
   "source": [
    "print(joke_resoning_generator(examples[9],system_prompt))"
   ]
  },
  {
   "cell_type": "code",
   "execution_count": 13,
   "metadata": {},
   "outputs": [
    {
     "name": "stdout",
     "output_type": "stream",
     "text": [
      "Kapalı mekanlardan geçen herkesin bir rolü oynadığı sonu hep başkalarının kahkahası ile biten çok kısa gösterimlere ne denir?: Cinsel Hayatım\n"
     ]
    }
   ],
   "source": [
    "print(qa_list[9])"
   ]
  },
  {
   "cell_type": "code",
   "execution_count": 14,
   "metadata": {},
   "outputs": [
    {
     "name": "stderr",
     "output_type": "stream",
     "text": [
      "Generating reasonings: 100%|██████████| 60/60 [07:04<00:00,  7.08s/it]"
     ]
    },
    {
     "name": "stdout",
     "output_type": "stream",
     "text": [
      "['Kullanıcı benden bir espri yapmamı istiyor, belirli bir konuya odaklanmamış olduğu için geniş bir yaratıcılık alanım var. Kelime oyunları genellikle hem basit hem de etkili olabilir. İngilizce ve Türkçe arasında bir benzerlik bulmak eğlenceli olabilir. İngilizcede \"wish\" kelimesi, Türkçede \"dilek\" anlamına gelir. Aynı zamanda Türkçe’de \"vişne\" kelimesinin ilk hecesi \"wish\" gibi telaffuz edilir. Buradan hareketle, bir kelime oyunu oluşturabilirim: \"dilek tutmaya yardımcı olan bir meyve\" şeklinde bir soru sorarak \"wish\" kelimesinin Türkçe fonetik benzerliğinden yararlanırım. Sorunun cevabı ise fonetik benzerliği belirginleştirmek adına \"WishNe\" olur. Bu espriyi yaparken, iki dilin ses benzerliklerini kullanarak bir gülümseme yaratabileceğimi düşünüyorum. Ayrıca meyve isimlerini esprinin merkezine koymak, günlük hayatta karşılaşabileceğimiz objelerle ilgili bir mizah oluşturuyor.', 'Kullanıcı benden Yurtiçi Kargo hakkında bir espri yapmamı istiyor, bu da bana espriyi kargo teslimatlarıyla ilgili gecikmeler üzerinden şekillendirmem için bir fırsat veriyor. Yurtiçi Kargo, Türkiye\\'de yaygın olarak kullanılan bir kargo şirketidir ve çoğu zaman kargo teslimat süreleri hakkında esprili eleştiriler alır. Buradan hareketle, izlenemeyen bir filmle ilgili bir espri düşünebilirim. Coen Biraderler, Amerikada ünlü bir yönetmen ikilisidir ve kaliteli, dikkat çekici filmleriyle tanınırlar. Ancak, film \"asla gelmediği için\" izleyememekten bahsetmek, Yurtiçi Kargo\\'nun bazen teslimatlarda yaşadığı gecikmelere göndermede bulunur. Coen Biraderler gibi tanınmış figürlerle bu espriyi harmanladığımda da ortaya komik bir durum çıkar: Coen Biraderler’in kaliteli filmleri, bir işten beklenen kaliteliyi ve ulaşabilirliği simgelerken, film \"Yurtiçi Kargo\" nedeniyle asla gelmez. Böylece izleyemediğimiz Coen Biraderler filmi \"Yurtiçi Kargo\" şeklinde bir kelime oyunu yaratabilirim.']\n"
     ]
    },
    {
     "name": "stderr",
     "output_type": "stream",
     "text": [
      "\n"
     ]
    }
   ],
   "source": [
    "from tqdm import tqdm\n",
    "\n",
    "# Initialize reasonings list\n",
    "reasonings = []\n",
    "\n",
    "# Process examples with progress bar\n",
    "try:\n",
    "    for example in tqdm(examples, desc=\"Generating reasonings\"):\n",
    "        reasonings.append(joke_resoning_generator(example, system_prompt))\n",
    "except KeyboardInterrupt:\n",
    "    print(\"Process interrupted. Progress saved in memory.\")\n",
    "\n",
    "# Display the first two reasonings\n",
    "print(reasonings[:2])"
   ]
  },
  {
   "cell_type": "code",
   "execution_count": 15,
   "metadata": {},
   "outputs": [],
   "source": [
    "#save reasonings as a pickle file\n",
    "output_path = \"../data/reasonings.json\"\n",
    "with open(output_path, \"w\") as f:\n",
    "    json.dump(reasonings, f)"
   ]
  }
 ],
 "metadata": {
  "kernelspec": {
   "display_name": "btk2",
   "language": "python",
   "name": "python3"
  },
  "language_info": {
   "codemirror_mode": {
    "name": "ipython",
    "version": 3
   },
   "file_extension": ".py",
   "mimetype": "text/x-python",
   "name": "python",
   "nbconvert_exporter": "python",
   "pygments_lexer": "ipython3",
   "version": "3.9.18"
  }
 },
 "nbformat": 4,
 "nbformat_minor": 2
}
